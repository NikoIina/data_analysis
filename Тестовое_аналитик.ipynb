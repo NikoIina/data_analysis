{
 "cells": [
  {
   "cell_type": "code",
   "execution_count": 94,
   "id": "a6cd69e8-b3b0-42a8-91ae-2544bb8e72db",
   "metadata": {},
   "outputs": [],
   "source": [
    "import statistics\n",
    "import pandas as pd\n",
    "from pandas import read_excel\n",
    "from collections import Counter\n",
    "\n",
    "df = pd.read_excel('Analytics test.xlsx')"
   ]
  },
  {
   "cell_type": "code",
   "execution_count": 95,
   "id": "e9687652-8267-4f65-8b28-9b8142e90b40",
   "metadata": {},
   "outputs": [
    {
     "name": "stdout",
     "output_type": "stream",
     "text": [
      "Android: \n",
      "IN: 151\n",
      "RU: 59\n",
      "CN: 58\n",
      "ID: 36\n",
      "PH: 30\n",
      "iOS: \n",
      "CN: 122\n",
      "VN: 18\n",
      "US: 14\n",
      "RU: 12\n",
      "IN: 11\n",
      "Samsung: \n",
      "EG: 3\n",
      "IL: 1\n",
      "BR: 1\n",
      "US: 1\n",
      "NG: 1\n",
      "Amazon: \n",
      "US: 1\n",
      "CI: 1\n"
     ]
    }
   ],
   "source": [
    "# Task 1\n",
    "\n",
    "for i in df['plf'].unique():\n",
    "    countries = []\n",
    "    for index, row in df.iterrows():\n",
    "        if row['plf'] == i:\n",
    "            countries.append(row['country'])\n",
    "    counter = Counter(countries)\n",
    "    most_occur = counter.most_common(5)\n",
    "    print(f'{i}: ')\n",
    "    for n in most_occur:\n",
    "        print(f'{n[0]}: {n[1]}')"
   ]
  },
  {
   "cell_type": "code",
   "execution_count": 4,
   "id": "f037c0dc-2ba6-4dea-9387-b9187ed1b118",
   "metadata": {},
   "outputs": [],
   "source": [
    "# Наибольшее количество пользователей играют на платформе Android, с подавляющим большинством из Индии. На втором месте по популярности находится платформа iOS, с большинством пользователей из Китая. \n",
    "# Также стоит отметить, что независимо от платформы такие страны, как Индия, Россия и Китай находятся в списке топ-5 стран по количеству пользователей.\n",
    "# Наименьшее количество пользователей играют на платформе Amazon."
   ]
  },
  {
   "cell_type": "code",
   "execution_count": 96,
   "id": "746b496a-a0ac-4f27-b493-cbeb39c90054",
   "metadata": {
    "tags": []
   },
   "outputs": [
    {
     "name": "stdout",
     "output_type": "stream",
     "text": [
      "Максимальный lifetime игроков в игре: 890.87 дней\n"
     ]
    }
   ],
   "source": [
    "# Task 2\n",
    "\n",
    "time = []\n",
    "for index, row in df.iterrows():\n",
    "    count = int(row['ts']) - int(row['reg'])\n",
    "    time.append(count)\n",
    "    \n",
    "days = (max(time)/(60*60*24*1000))\n",
    "print(f'Максимальный lifetime игроков в игре: {round(days, 2)} дней')"
   ]
  },
  {
   "cell_type": "code",
   "execution_count": 79,
   "id": "1e49a31d-6b1a-4f3b-8b42-c96a00b3938a",
   "metadata": {},
   "outputs": [],
   "source": [
    "# Максимальный lifetime пользователя в игре составляет больше 2-х лет."
   ]
  },
  {
   "cell_type": "code",
   "execution_count": 97,
   "id": "3970bca9-f65e-423b-aaa0-9fc289abb68e",
   "metadata": {
    "tags": []
   },
   "outputs": [
    {
     "name": "stdout",
     "output_type": "stream",
     "text": [
      "Количество игроков с уровнем выше 20: 250, 20 уровень включительно: 277\n"
     ]
    }
   ],
   "source": [
    "# Task 3\n",
    "\n",
    "count = 0\n",
    "count_over = 0\n",
    "for i in df['pl']:\n",
    "    if int(i) > 20:\n",
    "        count +=1\n",
    "    elif int(i) >= 20:\n",
    "        count_over +=1\n",
    "    else:\n",
    "        pass\n",
    "    \n",
    "print(f'Количество игроков с уровнем выше 20: {count}, 20 уровень включительно: {count_over+count}')"
   ]
  },
  {
   "cell_type": "code",
   "execution_count": 61,
   "id": "e65abd3e-6a63-4cc6-80f5-fdff166a793c",
   "metadata": {},
   "outputs": [],
   "source": [
    "# При общем количестве игроков равным 1000, выше 20 уровня докачались больше 25%."
   ]
  },
  {
   "cell_type": "code",
   "execution_count": 98,
   "id": "a0b4c5ba-cdba-43d4-84a4-775c88af20a3",
   "metadata": {},
   "outputs": [
    {
     "name": "stdout",
     "output_type": "stream",
     "text": [
      "Средний уровень игроков для каждой страны:\n",
      "AT: 33\n",
      "ZM: 33\n",
      "QA: 33\n",
      "YE: 30\n",
      "MZ: 29.5\n",
      "MR: 28\n",
      "ET: 28\n",
      "GR: 28\n",
      "XK: 24\n",
      "EC: 24\n",
      "AU: 23\n",
      "LT: 23\n",
      "ES: 23\n",
      "KR: 22.25\n",
      "AO: 22\n",
      "JP: 20.89\n",
      "HK: 20.42\n",
      "DE: 20.07\n",
      "KG: 20\n",
      "GP: 20\n",
      "TM: 20\n",
      "MA: 19.33\n",
      "CI: 18.75\n",
      "TJ: 18.5\n",
      "PT: 18\n",
      "VN: 17\n",
      "MD: 17\n",
      "AZ: 17\n",
      "TZ: 17\n",
      "IT: 16.86\n",
      "GH: 16.67\n",
      "OM: 16.5\n",
      "BF: 16\n",
      "TH: 15\n",
      "SK: 15\n",
      "CN: 14.76\n",
      "TR: 14.69\n",
      "MY: 14.66\n",
      "MX: 14.5\n",
      "RU: 14.13\n",
      "TW: 14\n",
      "PE: 14\n",
      "NP: 14\n",
      "UZ: 13.5\n",
      "ID: 13.28\n",
      "US: 13.13\n",
      "BY: 13\n",
      "UA: 13\n",
      "PL: 13\n",
      "AE: 12.83\n",
      "BR: 12.81\n",
      "PK: 12.43\n",
      "AL: 12\n",
      "PH: 11.78\n",
      "AF: 11.67\n",
      "AM: 11.67\n",
      "IQ: 11.33\n",
      "FR: 11.2\n",
      "IR: 11.12\n",
      "KZ: 11.08\n",
      "GB: 11\n",
      "IN: 10.87\n",
      "TN: 10.5\n",
      "HU: 10.5\n",
      "SY: 10.5\n",
      "NI: 10\n",
      "CO: 10\n",
      "NG: 9.21\n",
      "EG: 9.1\n",
      "SG: 9\n",
      "BD: 8.82\n",
      "IL: 8.5\n",
      "AR: 8\n",
      "IE: 7.5\n",
      "LK: 7.4\n",
      "RO: 7.33\n",
      "BE: 6.5\n",
      "NE: 6.5\n",
      "ZA: 6\n",
      "UNKNOWN: 6\n",
      "SO: 6\n",
      "NZ: 6\n",
      "CZ: 5.5\n",
      "CL: 5.4\n",
      "MM: 5.12\n",
      "JM: 5\n",
      "MG: 5\n",
      "LB: 5\n",
      "CD: 5\n",
      "GE: 5\n",
      "CA: 4.5\n",
      "SA: 4.5\n",
      "TT: 4\n",
      "KW: 4\n",
      "KE: 3.5\n",
      "PS: 3\n",
      "NL: 3\n",
      "CR: 3\n",
      "DO: 3\n",
      "JO: 3\n",
      "BG: 3\n",
      "SN: 1\n"
     ]
    }
   ],
   "source": [
    "# Task 4\n",
    "\n",
    "data = {}\n",
    "print(f'Средний уровень игроков для каждой страны:')\n",
    "\n",
    "for i in df['country'].unique():\n",
    "    levels = []\n",
    "    for index, row in df.iterrows():\n",
    "        if row['country'] == i:\n",
    "            levels.append(int(row['pl']))\n",
    "    data[i] = round(statistics.mean(levels), 2)\n",
    "\n",
    "for i in sorted(data, key=data.get, reverse=True):\n",
    "    print(f'{i}: {data[i]}')"
   ]
  },
  {
   "cell_type": "code",
   "execution_count": null,
   "id": "7abac2b8-6710-4f36-833e-7b89132a35e2",
   "metadata": {},
   "outputs": [],
   "source": [
    "# Игроки из Автрии, Замбии и Катара достигли имеют самый высокий средний уровень относительно игроков из других стран."
   ]
  }
 ],
 "metadata": {
  "kernelspec": {
   "display_name": "Python 3",
   "language": "python",
   "name": "python3"
  },
  "language_info": {
   "codemirror_mode": {
    "name": "ipython",
    "version": 3
   },
   "file_extension": ".py",
   "mimetype": "text/x-python",
   "name": "python",
   "nbconvert_exporter": "python",
   "pygments_lexer": "ipython3",
   "version": "3.8.8"
  }
 },
 "nbformat": 4,
 "nbformat_minor": 5
}
